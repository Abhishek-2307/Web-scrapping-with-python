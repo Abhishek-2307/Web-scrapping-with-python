{
 "cells": [
  {
   "cell_type": "markdown",
   "metadata": {},
   "source": [
    "### Importing Modules"
   ]
  },
  {
   "cell_type": "code",
   "execution_count": null,
   "metadata": {
    "collapsed": true
   },
   "outputs": [],
   "source": []
  },
  {
   "cell_type": "code",
   "execution_count": 1,
   "metadata": {
    "collapsed": true
   },
   "outputs": [],
   "source": [
    "Page = \"http://localhost:8000/auto_mpg.html\""
   ]
  },
  {
   "cell_type": "code",
   "execution_count": 2,
   "metadata": {
    "collapsed": true
   },
   "outputs": [],
   "source": [
    "import requests"
   ]
  },
  {
   "cell_type": "code",
   "execution_count": 3,
   "metadata": {
    "collapsed": true
   },
   "outputs": [],
   "source": [
    "result = requests.get(Page)"
   ]
  },
  {
   "cell_type": "code",
   "execution_count": 4,
   "metadata": {},
   "outputs": [
    {
     "data": {
      "text/plain": [
       "requests.models.Response"
      ]
     },
     "execution_count": 4,
     "metadata": {},
     "output_type": "execute_result"
    }
   ],
   "source": [
    "type(result)"
   ]
  },
  {
   "cell_type": "code",
   "execution_count": 5,
   "metadata": {},
   "outputs": [
    {
     "data": {
      "text/plain": [
       "200"
      ]
     },
     "execution_count": 5,
     "metadata": {},
     "output_type": "execute_result"
    }
   ],
   "source": [
    "result.status_code"
   ]
  },
  {
   "cell_type": "code",
   "execution_count": 6,
   "metadata": {},
   "outputs": [
    {
     "data": {
      "text/plain": [
       "b'\\n<!DOCTYPE'"
      ]
     },
     "execution_count": 6,
     "metadata": {},
     "output_type": "execute_result"
    }
   ],
   "source": [
    "result.content[:10]"
   ]
  },
  {
   "cell_type": "code",
   "execution_count": 7,
   "metadata": {},
   "outputs": [
    {
     "data": {
      "text/plain": [
       "bytes"
      ]
     },
     "execution_count": 7,
     "metadata": {},
     "output_type": "execute_result"
    }
   ],
   "source": [
    "type(result.content)"
   ]
  },
  {
   "cell_type": "code",
   "execution_count": 8,
   "metadata": {
    "collapsed": true
   },
   "outputs": [],
   "source": [
    "source = result.text"
   ]
  },
  {
   "cell_type": "code",
   "execution_count": 9,
   "metadata": {},
   "outputs": [
    {
     "data": {
      "text/plain": [
       "str"
      ]
     },
     "execution_count": 9,
     "metadata": {},
     "output_type": "execute_result"
    }
   ],
   "source": [
    "type(source)"
   ]
  },
  {
   "cell_type": "code",
   "execution_count": 10,
   "metadata": {
    "collapsed": true
   },
   "outputs": [],
   "source": [
    "from bs4 import BeautifulSoup"
   ]
  },
  {
   "cell_type": "markdown",
   "metadata": {},
   "source": [
    "### Understanding scrapped data"
   ]
  },
  {
   "cell_type": "code",
   "execution_count": 11,
   "metadata": {
    "collapsed": true
   },
   "outputs": [],
   "source": [
    "soup = BeautifulSoup(source, 'html.parser')"
   ]
  },
  {
   "cell_type": "code",
   "execution_count": 14,
   "metadata": {},
   "outputs": [
    {
     "name": "stdout",
     "output_type": "stream",
     "text": [
      "<!DOCTYPE html>\n",
      "<html lang=\"en\">\n",
      " <head>\n",
      "  <meta charset=\"utf-8\"/>\n",
      "  <title>\n",
      "   Example Car Dataset\n",
      "  </title>\n",
      "  <style>\n",
      "   body {\n",
      "        background-color: rgb(0, 0, 0);\n",
      "        color: rgb(211, 211, 211);\n",
      "        font-family:'Segoe UI', Tahoma, Geneva, Verdana, sans-serif;\n",
      "        margin: 0 20px;\n",
      " \n"
     ]
    }
   ],
   "source": [
    "print(soup.prettify()[:300])"
   ]
  },
  {
   "cell_type": "code",
   "execution_count": 17,
   "metadata": {},
   "outputs": [
    {
     "data": {
      "text/plain": [
       "'Example Car Dataset'"
      ]
     },
     "execution_count": 17,
     "metadata": {},
     "output_type": "execute_result"
    }
   ],
   "source": [
    "soup.title.text"
   ]
  },
  {
   "cell_type": "code",
   "execution_count": 21,
   "metadata": {},
   "outputs": [
    {
     "data": {
      "text/plain": [
       "406"
      ]
     },
     "execution_count": 21,
     "metadata": {},
     "output_type": "execute_result"
    }
   ],
   "source": [
    "len(soup.find_all('div', class_='car_block'))"
   ]
  },
  {
   "cell_type": "code",
   "execution_count": 22,
   "metadata": {
    "collapsed": true
   },
   "outputs": [],
   "source": [
    "div=soup.find_all('div', class_='car_block')[0]"
   ]
  },
  {
   "cell_type": "code",
   "execution_count": 23,
   "metadata": {},
   "outputs": [
    {
     "name": "stdout",
     "output_type": "stream",
     "text": [
      "<div class=\"car_block\" id=\"car-1\">\n",
      " <span class=\"car_name\">\n",
      "  Chevrolet Chevelle Malibu\n",
      " </span>\n",
      " <span class=\"from\">\n",
      "  (1970, USA)\n",
      " </span>\n",
      " <br/>\n",
      " Achieves\n",
      " <span class=\"mpg\">\n",
      "  18.0 mpg\n",
      " </span>\n",
      " with\n",
      " <span class=\"cylinders\">\n",
      "  8\n",
      " </span>\n",
      " cylinders backed by\n",
      " <span class=\"horsepower\">\n",
      "  130\n",
      " </span>\n",
      " hp, 307.0 cubic inches of displacement, weighing\n",
      " <span class=\"weight\">\n",
      "  3,504\n",
      " </span>\n",
      " lbs with 0-60 mph acceleration in\n",
      " <span class=\"acceleration\">\n",
      "  12.0\n",
      " </span>\n",
      " seconds\n",
      "</div>\n",
      "\n"
     ]
    }
   ],
   "source": [
    "print(div.prettify())"
   ]
  },
  {
   "cell_type": "code",
   "execution_count": 24,
   "metadata": {},
   "outputs": [
    {
     "data": {
      "text/plain": [
       "'Chevrolet Chevelle Malibu (1970, USA)  Achieves 18.0 mpg with 8 cylinders backed by 130 hp, 307.0 cubic inches of displacement, weighing 3,504 lbs with 0-60 mph acceleration in 12.0 seconds'"
      ]
     },
     "execution_count": 24,
     "metadata": {},
     "output_type": "execute_result"
    }
   ],
   "source": [
    "div.text"
   ]
  },
  {
   "cell_type": "code",
   "execution_count": 25,
   "metadata": {},
   "outputs": [
    {
     "data": {
      "text/plain": [
       "['Chevrolet Chevelle Malibu',\n",
       " '(1970, USA)',\n",
       " 'Achieves',\n",
       " '18.0 mpg',\n",
       " 'with',\n",
       " '8',\n",
       " 'cylinders backed by',\n",
       " '130',\n",
       " 'hp, 307.0 cubic inches of displacement, weighing',\n",
       " '3,504',\n",
       " 'lbs with 0-60 mph acceleration in',\n",
       " '12.0',\n",
       " 'seconds']"
      ]
     },
     "execution_count": 25,
     "metadata": {},
     "output_type": "execute_result"
    }
   ],
   "source": [
    "list(div.stripped_strings)"
   ]
  },
  {
   "cell_type": "code",
   "execution_count": 26,
   "metadata": {},
   "outputs": [
    {
     "data": {
      "text/plain": [
       "[<span class=\"car_name\">Chevrolet Chevelle Malibu</span>,\n",
       " <span class=\"from\">(1970, USA)</span>,\n",
       " <span class=\"mpg\">18.0 mpg</span>,\n",
       " <span class=\"cylinders\">8</span>,\n",
       " <span class=\"horsepower\">130</span>,\n",
       " <span class=\"weight\">3,504</span>,\n",
       " <span class=\"acceleration\">12.0</span>]"
      ]
     },
     "execution_count": 26,
     "metadata": {},
     "output_type": "execute_result"
    }
   ],
   "source": [
    "div.find_all('span')"
   ]
  },
  {
   "cell_type": "code",
   "execution_count": 27,
   "metadata": {},
   "outputs": [
    {
     "data": {
      "text/plain": [
       "<span class=\"mpg\">18.0 mpg</span>"
      ]
     },
     "execution_count": 27,
     "metadata": {},
     "output_type": "execute_result"
    }
   ],
   "source": [
    "div.find('span',class_='mpg')"
   ]
  },
  {
   "cell_type": "code",
   "execution_count": 28,
   "metadata": {},
   "outputs": [
    {
     "data": {
      "text/plain": [
       "'18.0 mpg'"
      ]
     },
     "execution_count": 28,
     "metadata": {},
     "output_type": "execute_result"
    }
   ],
   "source": [
    "div.find('span',class_='mpg').text"
   ]
  },
  {
   "cell_type": "code",
   "execution_count": 29,
   "metadata": {
    "collapsed": true
   },
   "outputs": [],
   "source": [
    "# importing regular expression\n",
    "import re"
   ]
  },
  {
   "cell_type": "code",
   "execution_count": 30,
   "metadata": {},
   "outputs": [
    {
     "data": {
      "text/plain": [
       "['Chevrolet Chevelle Malibu (1970, USA)  Achieves 18.0 mpg with 8 cylinders backed by 130 hp, 307.0 cubic inches']"
      ]
     },
     "execution_count": 30,
     "metadata": {},
     "output_type": "execute_result"
    }
   ],
   "source": [
    "re.findall('.* cubic inches', div.text)"
   ]
  },
  {
   "cell_type": "code",
   "execution_count": 31,
   "metadata": {},
   "outputs": [
    {
     "data": {
      "text/plain": [
       "['307.0']"
      ]
     },
     "execution_count": 31,
     "metadata": {},
     "output_type": "execute_result"
    }
   ],
   "source": [
    "re.findall('.* (\\d+.\\d+) cubic inches', div.text)"
   ]
  },
  {
   "cell_type": "code",
   "execution_count": 35,
   "metadata": {},
   "outputs": [],
   "source": [
    "mpg_list = list(mpg.text for mpg in soup.find_all('span',class_='mpg'))"
   ]
  },
  {
   "cell_type": "code",
   "execution_count": 39,
   "metadata": {},
   "outputs": [
    {
     "name": "stdout",
     "output_type": "stream",
     "text": [
      "['18.0 mpg', '15.0 mpg', '18.0 mpg', '16.0 mpg', '17.0 mpg', '15.0 mpg', '14.0 mpg', '14.0 mpg', '14.0 mpg', '15.0 mpg', '- mpg', '- mpg', '- mpg', '- mpg', '- mpg', '15.0 mpg', '14.0 mpg', '- mpg', '15.0 mpg', '14.0 mpg', '24.0 mpg', '22.0 mpg', '18.0 mpg', '21.0 mpg', '27.0 mpg', '26.0 mpg', '25.0 mpg', '24.0 mpg', '25.0 mpg', '26.0 mpg', '21.0 mpg', '10.0 mpg', '10.0 mpg', '11.0 mpg', '9.0 mpg', '27.0 mpg', '28.0 mpg', '25.0 mpg', '25.0 mpg', '- mpg', '19.0 mpg', '16.0 mpg', '17.0 mpg', '19.0 mpg', '18.0 mpg', '14.0 mpg', '14.0 mpg', '14.0 mpg', '14.0 mpg', '12.0 mpg', '13.0 mpg', '13.0 mpg', '18.0 mpg', '22.0 mpg', '19.0 mpg', '18.0 mpg', '23.0 mpg', '28.0 mpg', '30.0 mpg', '30.0 mpg', '31.0 mpg', '35.0 mpg', '27.0 mpg', '26.0 mpg', '24.0 mpg', '25.0 mpg', '23.0 mpg', '20.0 mpg', '21.0 mpg', '13.0 mpg', '14.0 mpg', '15.0 mpg', '14.0 mpg', '17.0 mpg', '11.0 mpg', '13.0 mpg', '12.0 mpg', '13.0 mpg', '19.0 mpg', '15.0 mpg', '13.0 mpg', '13.0 mpg', '14.0 mpg', '18.0 mpg', '22.0 mpg', '21.0 mpg', '26.0 mpg', '22.0 mpg', '28.0 mpg', '23.0 mpg', '28.0 mpg', '27.0 mpg', '13.0 mpg', '14.0 mpg', '13.0 mpg', '14.0 mpg', '15.0 mpg', '12.0 mpg', '13.0 mpg', '13.0 mpg', '14.0 mpg', '13.0 mpg', '12.0 mpg', '13.0 mpg', '18.0 mpg', '16.0 mpg', '18.0 mpg', '18.0 mpg', '23.0 mpg', '26.0 mpg', '11.0 mpg', '12.0 mpg', '13.0 mpg', '12.0 mpg', '18.0 mpg', '20.0 mpg', '21.0 mpg', '22.0 mpg', '18.0 mpg', '19.0 mpg', '21.0 mpg', '26.0 mpg', '15.0 mpg', '16.0 mpg', '29.0 mpg', '24.0 mpg', '20.0 mpg', '19.0 mpg', '15.0 mpg', '24.0 mpg', '20.0 mpg', '11.0 mpg', '20.0 mpg', '21.0 mpg', '19.0 mpg', '15.0 mpg', '31.0 mpg', '26.0 mpg', '32.0 mpg', '25.0 mpg', '16.0 mpg', '16.0 mpg', '18.0 mpg', '16.0 mpg', '13.0 mpg', '14.0 mpg', '14.0 mpg', '14.0 mpg', '29.0 mpg', '26.0 mpg', '26.0 mpg', '31.0 mpg', '32.0 mpg', '28.0 mpg', '24.0 mpg', '26.0 mpg', '24.0 mpg', '26.0 mpg', '31.0 mpg', '19.0 mpg', '18.0 mpg', '15.0 mpg', '15.0 mpg', '16.0 mpg', '15.0 mpg', '16.0 mpg', '14.0 mpg', '17.0 mpg', '16.0 mpg', '15.0 mpg', '18.0 mpg', '21.0 mpg', '20.0 mpg', '13.0 mpg', '29.0 mpg', '23.0 mpg', '20.0 mpg', '23.0 mpg', '24.0 mpg', '25.0 mpg', '24.0 mpg', '18.0 mpg', '29.0 mpg', '19.0 mpg', '23.0 mpg', '23.0 mpg', '22.0 mpg', '25.0 mpg', '33.0 mpg', '28.0 mpg', '25.0 mpg', '25.0 mpg', '26.0 mpg', '27.0 mpg', '17.5 mpg', '16.0 mpg', '15.5 mpg', '14.5 mpg', '22.0 mpg', '22.0 mpg', '24.0 mpg', '22.5 mpg', '29.0 mpg', '24.5 mpg', '29.0 mpg', '33.0 mpg', '20.0 mpg', '18.0 mpg', '18.5 mpg', '17.5 mpg', '29.5 mpg', '32.0 mpg', '28.0 mpg', '26.5 mpg', '20.0 mpg', '13.0 mpg', '19.0 mpg', '19.0 mpg', '16.5 mpg', '16.5 mpg', '13.0 mpg', '13.0 mpg', '13.0 mpg', '31.5 mpg', '30.0 mpg', '36.0 mpg', '25.5 mpg', '33.5 mpg', '17.5 mpg', '17.0 mpg', '15.5 mpg', '15.0 mpg', '17.5 mpg', '20.5 mpg', '19.0 mpg', '18.5 mpg', '16.0 mpg', '15.5 mpg', '15.5 mpg', '16.0 mpg', '29.0 mpg', '24.5 mpg', '26.0 mpg', '25.5 mpg', '30.5 mpg', '33.5 mpg', '30.0 mpg', '30.5 mpg', '22.0 mpg', '21.5 mpg', '21.5 mpg', '43.1 mpg', '36.1 mpg', '32.8 mpg', '39.4 mpg', '36.1 mpg', '19.9 mpg', '19.4 mpg', '20.2 mpg', '19.2 mpg', '20.5 mpg', '20.2 mpg', '25.1 mpg', '20.5 mpg', '19.4 mpg', '20.6 mpg', '20.8 mpg', '18.6 mpg', '18.1 mpg', '19.2 mpg', '17.7 mpg', '18.1 mpg', '17.5 mpg', '30.0 mpg', '27.5 mpg', '27.2 mpg', '30.9 mpg', '21.1 mpg', '23.2 mpg', '23.8 mpg', '23.9 mpg', '20.3 mpg', '17.0 mpg', '21.6 mpg', '16.2 mpg', '31.5 mpg', '29.5 mpg', '21.5 mpg', '19.8 mpg', '22.3 mpg', '20.2 mpg', '20.6 mpg', '17.0 mpg', '17.6 mpg', '16.5 mpg', '18.2 mpg', '16.9 mpg', '15.5 mpg', '19.2 mpg', '18.5 mpg', '31.9 mpg', '34.1 mpg', '35.7 mpg', '27.4 mpg', '25.4 mpg', '23.0 mpg', '27.2 mpg', '23.9 mpg', '34.2 mpg', '34.5 mpg', '31.8 mpg', '37.3 mpg', '28.4 mpg', '28.8 mpg', '26.8 mpg', '33.5 mpg', '41.5 mpg', '38.1 mpg', '32.1 mpg', '37.2 mpg', '28.0 mpg', '26.4 mpg', '24.3 mpg', '19.1 mpg', '34.3 mpg', '29.8 mpg', '31.3 mpg', '37.0 mpg', '32.2 mpg', '46.6 mpg', '27.9 mpg', '40.8 mpg', '44.3 mpg', '43.4 mpg', '36.4 mpg', '30.0 mpg', '44.6 mpg', '40.9 mpg', '33.8 mpg', '29.8 mpg', '32.7 mpg', '23.7 mpg', '35.0 mpg', '23.6 mpg', '32.4 mpg', '27.2 mpg', '26.6 mpg', '25.8 mpg', '23.5 mpg', '30.0 mpg', '39.1 mpg', '39.0 mpg', '35.1 mpg', '32.3 mpg', '37.0 mpg', '37.7 mpg', '34.1 mpg', '34.7 mpg', '34.4 mpg', '29.9 mpg', '33.0 mpg', '34.5 mpg', '33.7 mpg', '32.4 mpg', '32.9 mpg', '31.6 mpg', '28.1 mpg', '- mpg', '30.7 mpg', '25.4 mpg', '24.2 mpg', '22.4 mpg', '26.6 mpg', '20.2 mpg', '17.6 mpg', '28.0 mpg', '27.0 mpg', '34.0 mpg', '31.0 mpg', '29.0 mpg', '27.0 mpg', '24.0 mpg', '23.0 mpg', '36.0 mpg', '37.0 mpg', '31.0 mpg', '38.0 mpg', '36.0 mpg', '36.0 mpg', '36.0 mpg', '34.0 mpg', '38.0 mpg', '32.0 mpg', '38.0 mpg', '25.0 mpg', '38.0 mpg', '26.0 mpg', '22.0 mpg', '32.0 mpg', '36.0 mpg', '27.0 mpg', '27.0 mpg', '44.0 mpg', '32.0 mpg', '28.0 mpg', '31.0 mpg']\n"
     ]
    }
   ],
   "source": [
    "print(mpg_list)"
   ]
  },
  {
   "cell_type": "code",
   "execution_count": null,
   "metadata": {
    "collapsed": true
   },
   "outputs": [],
   "source": []
  }
 ],
 "metadata": {
  "kernelspec": {
   "display_name": "Python 3",
   "language": "python",
   "name": "python3"
  },
  "language_info": {
   "codemirror_mode": {
    "name": "ipython",
    "version": 3
   },
   "file_extension": ".py",
   "mimetype": "text/x-python",
   "name": "python",
   "nbconvert_exporter": "python",
   "pygments_lexer": "ipython3",
   "version": "3.6.1"
  }
 },
 "nbformat": 4,
 "nbformat_minor": 2
}
