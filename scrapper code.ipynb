{
 "cells": [
  {
   "cell_type": "markdown",
   "metadata": {},
   "source": [
    "### Importing Modules"
   ]
  },
  {
   "cell_type": "code",
   "execution_count": 1,
   "metadata": {
    "collapsed": true
   },
   "outputs": [],
   "source": [
    "import re\n",
    "import pickle\n",
    "import os\n",
    "import csv\n",
    "import requests\n",
    "from bs4 import BeautifulSoup"
   ]
  },
  {
   "cell_type": "code",
   "execution_count": 2,
   "metadata": {
    "collapsed": true
   },
   "outputs": [],
   "source": [
    "PAGE=\"http://localhost:8000/auto_mpg.html\""
   ]
  },
  {
   "cell_type": "code",
   "execution_count": 3,
   "metadata": {
    "collapsed": true
   },
   "outputs": [],
   "source": [
    "def process_car_blocks(soup):\n",
    "    \"\"\"Extract information from repeated divisions\"\"\"\n",
    "    car_blocks = soup.find_all('div', class_='car_block')\n",
    "    rows = []\n",
    "    for cb in car_blocks:\n",
    "        row = extract_data(cb)\n",
    "        rows.append(row)\n",
    "    print(f\"We have {len(rows)} rows of scraped car data\")\n",
    "    print(rows[0])\n",
    "    print(rows[-1])\n",
    "\n",
    "    with open(\"scraped_cars.csv\", \"w\") as f:\n",
    "        writer = csv.DictWriter(f, fieldnames=row.keys())\n",
    "        writer.writeheader()\n",
    "        writer.writerows(rows)"
   ]
  },
  {
   "cell_type": "code",
   "execution_count": 4,
   "metadata": {
    "collapsed": true
   },
   "outputs": [],
   "source": [
    "def extract_data(cb):\n",
    "    str_name = cb.find('span', class_='car_name').text\n",
    "    str_cylinders = cb.find('span', class_='cylinders').text\n",
    "    cylinders = int(str_cylinders)\n",
    "    assert cylinders > 0, f\"Expecting cylinders to be positive not {cylinders}\"\n",
    "    str_weight = cb.find('span', class_='weight').text\n",
    "    weight = int(str_weight.replace(',', ''))\n",
    "    assert weight > 0, f\"Expecting weight to be positive not {weight}\"\n",
    "    territory, year = extract_territory_year(cb)\n",
    "    acceleration = float(cb.find('span', class_='acceleration').text)\n",
    "    assert acceleration > 0, f\"Expecting acceleration to be positive\"\n",
    "    mpg = extract_mpg(cb)\n",
    "    hp = extract_horsepower(cb)\n",
    "    displacement = extract_displacement(cb.text)\n",
    "    row = dict(name=str_name,\n",
    "               cylinders=cylinders,\n",
    "               weight=weight,\n",
    "               year=year,\n",
    "               territory=territory,\n",
    "               acceleration=acceleration,\n",
    "               mpg=mpg,\n",
    "               hp=hp,\n",
    "               displacement=displacement)\n",
    "    return row"
   ]
  },
  {
   "cell_type": "code",
   "execution_count": 5,
   "metadata": {
    "collapsed": true
   },
   "outputs": [],
   "source": [
    "def extract_territory_year(cb):\n",
    "    str_from = cb.find('span', class_='from').text\n",
    "    year, territory = str_from.strip('()').split(',')\n",
    "    year = int(year.strip())\n",
    "    assert year > 0, f\"Expecting year to be positive not {year}\"\n",
    "    territory = territory.strip()\n",
    "    assert len(territory) > 1, f\"Expecting territory to be a \\\n",
    "        useful string not {territory}\"\n",
    "    return territory, year"
   ]
  },
  {
   "cell_type": "code",
   "execution_count": 6,
   "metadata": {
    "collapsed": true
   },
   "outputs": [],
   "source": [
    "def extract_horsepower(cb):\n",
    "    hp_str = cb.find('span', class_='horsepower').text\n",
    "    try:\n",
    "        hp = float(hp_str)\n",
    "        assert hp > 30, f\"Expecting reasonable hp, not {hp}\"\n",
    "    except ValueError:\n",
    "        hp = \"NULL\"\n",
    "    return hp"
   ]
  },
  {
   "cell_type": "code",
   "execution_count": 7,
   "metadata": {
    "collapsed": true
   },
   "outputs": [],
   "source": [
    "def extract_mpg(cb):\n",
    "    mpg_str = cb.find('span', class_='mpg').text\n",
    "    try:\n",
    "        mpg = float(mpg_str.split(' ')[0])\n",
    "        assert mpg > 7, f\"Expecting reasonable mpg, not {mpg}\"\n",
    "    except ValueError:\n",
    "        mpg = \"NULL\"\n",
    "    return mpg"
   ]
  },
  {
   "cell_type": "code",
   "execution_count": 8,
   "metadata": {
    "collapsed": true
   },
   "outputs": [],
   "source": [
    "def extract_displacement(text):\n",
    "    displacement_str = re.findall(r'.* (\\d+.\\d+) cubic inches', text)[0]\n",
    "    displacement = float(displacement_str)\n",
    "    assert displacement > 60, f\"Expecting a reasonable \\\n",
    "displacement, not {displacement}\"\n",
    "    return displacement"
   ]
  },
  {
   "cell_type": "code",
   "execution_count": 9,
   "metadata": {},
   "outputs": [
    {
     "name": "stdout",
     "output_type": "stream",
     "text": [
      "Fetching http://localhost:8000/auto_mpg.html from the internet\n",
      "Writing cached scraped_page_result.pickle\n",
      "We have 406 rows of scraped car data\n",
      "{'name': 'Chevrolet Chevelle Malibu', 'cylinders': 8, 'weight': 3504, 'year': 1970, 'territory': 'USA', 'acceleration': 12.0, 'mpg': 18.0, 'hp': 130.0, 'displacement': 307.0}\n",
      "{'name': 'Chevy S-10', 'cylinders': 4, 'weight': 2720, 'year': 1982, 'territory': 'USA', 'acceleration': 19.4, 'mpg': 31.0, 'hp': 82.0, 'displacement': 119.0}\n"
     ]
    }
   ],
   "source": [
    "if __name__ == \"__main__\":\n",
    "    filename = 'scraped_page_result.pickle'\n",
    "    if os.path.exists(filename):\n",
    "        with open(filename, 'rb') as f:\n",
    "            print(f\"Loading cached {filename}\")\n",
    "            result = pickle.load(f)\n",
    "    else:\n",
    "        print(f\"Fetching {PAGE} from the internet\")\n",
    "        result = requests.get(PAGE)\n",
    "        with open(filename, 'wb') as f:\n",
    "            print(f\"Writing cached {filename}\")\n",
    "            pickle.dump(result, f)\n",
    "    assert result.status_code == 200, f\"Got status code {result.status_code} \\\n",
    "which isn't a success\"\n",
    "    source = result.text\n",
    "    soup = BeautifulSoup(source, 'html.parser')\n",
    "    process_car_blocks(soup)\n"
   ]
  },
  {
   "cell_type": "code",
   "execution_count": null,
   "metadata": {
    "collapsed": true
   },
   "outputs": [],
   "source": []
  }
 ],
 "metadata": {
  "kernelspec": {
   "display_name": "Python 3",
   "language": "python",
   "name": "python3"
  },
  "language_info": {
   "codemirror_mode": {
    "name": "ipython",
    "version": 3
   },
   "file_extension": ".py",
   "mimetype": "text/x-python",
   "name": "python",
   "nbconvert_exporter": "python",
   "pygments_lexer": "ipython3",
   "version": "3.6.1"
  }
 },
 "nbformat": 4,
 "nbformat_minor": 2
}
